{
 "cells": [
  {
   "cell_type": "code",
   "execution_count": 1,
   "id": "c10f7cc9",
   "metadata": {},
   "outputs": [],
   "source": [
    "#Pushing this to start\n"
   ]
  },
  {
   "cell_type": "code",
   "execution_count": null,
   "id": "1b6853ea",
   "metadata": {},
   "outputs": [],
   "source": []
  }
 ],
 "metadata": {
  "kernelspec": {
   "display_name": "Python 3",
   "language": "python",
   "name": "python3"
  },
  "language_info": {
   "codemirror_mode": {
    "name": "ipython",
    "version": 3
   },
   "file_extension": ".py",
   "mimetype": "text/x-python",
   "name": "python",
   "nbconvert_exporter": "python",
   "pygments_lexer": "ipython3",
   "version": "3.8.8"
  }
 },
 "nbformat": 4,
 "nbformat_minor": 5
}
